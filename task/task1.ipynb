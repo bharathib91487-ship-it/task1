{
 "cells": [
  {
   "cell_type": "code",
   "execution_count": 1,
   "id": "91e9b71c-9bb0-4d0c-84a4-9985c717d9c1",
   "metadata": {},
   "outputs": [],
   "source": [
    "import pandas as pd\n",
    "\n",
    "# 1. Load the dataset\n",
    "df = pd.read_csv(\"Titanic-Dataset.csv\")"
   ]
  },
  {
   "cell_type": "code",
   "execution_count": 2,
   "id": "7d11222d-6bec-4006-91ec-33d3027e7391",
   "metadata": {},
   "outputs": [
    {
     "name": "stdout",
     "output_type": "stream",
     "text": [
      "🔹 First 5 rows of the dataset:\n",
      "   PassengerId  Survived  Pclass  \\\n",
      "0            1         0       3   \n",
      "1            2         1       1   \n",
      "2            3         1       3   \n",
      "3            4         1       1   \n",
      "4            5         0       3   \n",
      "\n",
      "                                                Name     Sex   Age  SibSp  \\\n",
      "0                            Braund, Mr. Owen Harris    male  22.0      1   \n",
      "1  Cumings, Mrs. John Bradley (Florence Briggs Th...  female  38.0      1   \n",
      "2                             Heikkinen, Miss. Laina  female  26.0      0   \n",
      "3       Futrelle, Mrs. Jacques Heath (Lily May Peel)  female  35.0      1   \n",
      "4                           Allen, Mr. William Henry    male  35.0      0   \n",
      "\n",
      "   Parch            Ticket     Fare Cabin Embarked  \n",
      "0      0         A/5 21171   7.2500   NaN        S  \n",
      "1      0          PC 17599  71.2833   C85        C  \n",
      "2      0  STON/O2. 3101282   7.9250   NaN        S  \n",
      "3      0            113803  53.1000  C123        S  \n",
      "4      0            373450   8.0500   NaN        S   \n",
      "\n"
     ]
    }
   ],
   "source": [
    "\n",
    "# 2. Display first 5 rows\n",
    "print(\"🔹 First 5 rows of the dataset:\")\n",
    "print(df.head(), \"\\n\")"
   ]
  },
  {
   "cell_type": "code",
   "execution_count": 3,
   "id": "feb8aaea-2fe1-49ac-b6ff-dd7d0eca621c",
   "metadata": {},
   "outputs": [
    {
     "name": "stdout",
     "output_type": "stream",
     "text": [
      "🔹 Dataset info:\n",
      "<class 'pandas.core.frame.DataFrame'>\n",
      "RangeIndex: 891 entries, 0 to 890\n",
      "Data columns (total 12 columns):\n",
      " #   Column       Non-Null Count  Dtype  \n",
      "---  ------       --------------  -----  \n",
      " 0   PassengerId  891 non-null    int64  \n",
      " 1   Survived     891 non-null    int64  \n",
      " 2   Pclass       891 non-null    int64  \n",
      " 3   Name         891 non-null    object \n",
      " 4   Sex          891 non-null    object \n",
      " 5   Age          714 non-null    float64\n",
      " 6   SibSp        891 non-null    int64  \n",
      " 7   Parch        891 non-null    int64  \n",
      " 8   Ticket       891 non-null    object \n",
      " 9   Fare         891 non-null    float64\n",
      " 10  Cabin        204 non-null    object \n",
      " 11  Embarked     889 non-null    object \n",
      "dtypes: float64(2), int64(5), object(5)\n",
      "memory usage: 83.7+ KB\n",
      "None \n",
      "\n"
     ]
    }
   ],
   "source": [
    "\n",
    "# 3. Dataset structure (rows, columns, data types, non-null counts)\n",
    "print(\"🔹 Dataset info:\")\n",
    "print(df.info(), \"\\n\")\n"
   ]
  },
  {
   "cell_type": "code",
   "execution_count": 4,
   "id": "90285757-0b08-46b8-a015-7e05001dda26",
   "metadata": {},
   "outputs": [
    {
     "name": "stdout",
     "output_type": "stream",
     "text": [
      "🔹 Missing values per column:\n",
      "PassengerId      0\n",
      "Survived         0\n",
      "Pclass           0\n",
      "Name             0\n",
      "Sex              0\n",
      "Age            177\n",
      "SibSp            0\n",
      "Parch            0\n",
      "Ticket           0\n",
      "Fare             0\n",
      "Cabin          687\n",
      "Embarked         2\n",
      "dtype: int64 \n",
      "\n"
     ]
    }
   ],
   "source": [
    "\n",
    "# 4. Check missing values in each column\n",
    "print(\"🔹 Missing values per column:\")\n",
    "print(df.isnull().sum(), \"\\n\")\n"
   ]
  },
  {
   "cell_type": "code",
   "execution_count": 5,
   "id": "cb98ec79-fab7-4653-96fc-b3626bc89f0e",
   "metadata": {},
   "outputs": [
    {
     "name": "stdout",
     "output_type": "stream",
     "text": [
      "🔹 Summary statistics (numeric columns):\n",
      "       PassengerId    Survived      Pclass         Age       SibSp  \\\n",
      "count   891.000000  891.000000  891.000000  714.000000  891.000000   \n",
      "mean    446.000000    0.383838    2.308642   29.699118    0.523008   \n",
      "std     257.353842    0.486592    0.836071   14.526497    1.102743   \n",
      "min       1.000000    0.000000    1.000000    0.420000    0.000000   \n",
      "25%     223.500000    0.000000    2.000000   20.125000    0.000000   \n",
      "50%     446.000000    0.000000    3.000000   28.000000    0.000000   \n",
      "75%     668.500000    1.000000    3.000000   38.000000    1.000000   \n",
      "max     891.000000    1.000000    3.000000   80.000000    8.000000   \n",
      "\n",
      "            Parch        Fare  \n",
      "count  891.000000  891.000000  \n",
      "mean     0.381594   32.204208  \n",
      "std      0.806057   49.693429  \n",
      "min      0.000000    0.000000  \n",
      "25%      0.000000    7.910400  \n",
      "50%      0.000000   14.454200  \n",
      "75%      0.000000   31.000000  \n",
      "max      6.000000  512.329200  \n"
     ]
    }
   ],
   "source": [
    "# 5. Basic statistics for numeric columns\n",
    "print(\"🔹 Summary statistics (numeric columns):\")\n",
    "print(df.describe())"
   ]
  },
  {
   "cell_type": "code",
   "execution_count": 6,
   "id": "adcc95c2-979c-471d-a9d1-2d20fdbad1e4",
   "metadata": {},
   "outputs": [
    {
     "name": "stdout",
     "output_type": "stream",
     "text": [
      "0\n",
      "PassengerId      0\n",
      "Survived         0\n",
      "Pclass           0\n",
      "Name             0\n",
      "Sex              0\n",
      "Age              0\n",
      "SibSp            0\n",
      "Parch            0\n",
      "Ticket           0\n",
      "Fare             0\n",
      "Cabin          687\n",
      "Embarked         0\n",
      "dtype: int64\n"
     ]
    }
   ],
   "source": [
    "# Fill missing values in 'Age' using mean (future-proof)\n",
    "df['Age'] = df['Age'].fillna(df['Age'].mean())\n",
    "\n",
    "# Fill missing values in 'Fare' using median\n",
    "df['Fare'] = df['Fare'].fillna(df['Fare'].median())\n",
    "\n",
    "# Fill missing values in 'Embarked' using mode\n",
    "df['Embarked'] = df['Embarked'].fillna(df['Embarked'].mode()[0])\n",
    "# Check\n",
    "print(df['Embarked'].isnull().sum())\n",
    "print(df.isnull().sum())"
   ]
  },
  {
   "cell_type": "code",
   "execution_count": 7,
   "id": "4c4765c2-e57a-4a30-a779-75cd1610f803",
   "metadata": {},
   "outputs": [
    {
     "name": "stdout",
     "output_type": "stream",
     "text": [
      "   PassengerId  Survived  Pclass  \\\n",
      "0            1         0       3   \n",
      "1            2         1       1   \n",
      "2            3         1       3   \n",
      "3            4         1       1   \n",
      "4            5         0       3   \n",
      "\n",
      "                                                Name  Sex   Age  SibSp  Parch  \\\n",
      "0                            Braund, Mr. Owen Harris    0  22.0      1      0   \n",
      "1  Cumings, Mrs. John Bradley (Florence Briggs Th...    1  38.0      1      0   \n",
      "2                             Heikkinen, Miss. Laina    1  26.0      0      0   \n",
      "3       Futrelle, Mrs. Jacques Heath (Lily May Peel)    1  35.0      1      0   \n",
      "4                           Allen, Mr. William Henry    0  35.0      0      0   \n",
      "\n",
      "             Ticket     Fare Cabin  Embarked_Q  Embarked_S  \n",
      "0         A/5 21171   7.2500   NaN       False        True  \n",
      "1          PC 17599  71.2833   C85       False       False  \n",
      "2  STON/O2. 3101282   7.9250   NaN       False        True  \n",
      "3            113803  53.1000  C123       False        True  \n",
      "4            373450   8.0500   NaN       False        True  \n"
     ]
    }
   ],
   "source": [
    "# --- Safe encoding for 'Sex' ---\n",
    "if 'Sex' in df.columns:\n",
    "    # Fill missing values safely\n",
    "    if df['Sex'].dropna().empty:\n",
    "        df['Sex'] = 'male'  # default if all NaN\n",
    "    else:\n",
    "        df['Sex'] = df['Sex'].fillna(df['Sex'].mode()[0])\n",
    "    # Convert to numeric\n",
    "    df['Sex'] = df['Sex'].map({'male': 0, 'female': 1})\n",
    "else:\n",
    "    print(\"'Sex' column not found.\")\n",
    "\n",
    "# --- Safe encoding for 'Embarked' ---\n",
    "if 'Embarked' in df.columns:\n",
    "    # Fill missing values safely\n",
    "    if df['Embarked'].dropna().empty:\n",
    "        df['Embarked'] = 'S'  # default if all NaN\n",
    "    else:\n",
    "        df['Embarked'] = df['Embarked'].fillna(df['Embarked'].mode()[0])\n",
    "    # One-hot encode\n",
    "    df = pd.get_dummies(df, columns=['Embarked'], drop_first=True)\n",
    "else:\n",
    "    print(\"'Embarked' column not found.\")\n",
    "\n",
    "# Show first 5 rows\n",
    "print(df.head())"
   ]
  },
  {
   "cell_type": "code",
   "execution_count": 9,
   "id": "07d0dc51-73e0-4966-87d0-97a6c1710450",
   "metadata": {},
   "outputs": [
    {
     "name": "stdout",
     "output_type": "stream",
     "text": [
      "        Age      Fare     SibSp     Parch    Pclass\n",
      "0 -0.592481 -0.502445  0.432793 -0.473674  0.827377\n",
      "1  0.638789  0.786845  0.432793 -0.473674 -1.566107\n",
      "2 -0.284663 -0.488854 -0.474545 -0.473674  0.827377\n",
      "3  0.407926  0.420730  0.432793 -0.473674 -1.566107\n",
      "4  0.407926 -0.486337 -0.474545 -0.473674  0.827377\n"
     ]
    }
   ],
   "source": [
    "from sklearn.preprocessing import StandardScaler\n",
    "\n",
    "# List of numerical columns to scale\n",
    "numerical_cols = ['Age', 'Fare', 'SibSp', 'Parch', 'Pclass']\n",
    "\n",
    "# Initialize scaler\n",
    "scaler = StandardScaler()\n",
    "\n",
    "# Fit and transform the numerical columns\n",
    "df[numerical_cols] = scaler.fit_transform(df[numerical_cols])\n",
    "\n",
    "# Show first 5 rows of scaled numerical features\n",
    "print(df[numerical_cols].head())\n"
   ]
  },
  {
   "cell_type": "code",
   "execution_count": 10,
   "id": "d57da6bd-60ae-435f-abd7-cca22c8f5024",
   "metadata": {},
   "outputs": [
    {
     "name": "stdout",
     "output_type": "stream",
     "text": [
      "        Age      Fare  SibSp  Parch  Pclass\n",
      "0  0.271174  0.014151  0.125    0.0     1.0\n",
      "1  0.472229  0.139136  0.125    0.0     0.0\n",
      "2  0.321438  0.015469  0.000    0.0     1.0\n",
      "3  0.434531  0.103644  0.125    0.0     0.0\n",
      "4  0.434531  0.015713  0.000    0.0     1.0\n"
     ]
    }
   ],
   "source": [
    "from sklearn.preprocessing import MinMaxScaler\n",
    "\n",
    "# List of numerical columns to normalize\n",
    "numerical_cols = ['Age', 'Fare', 'SibSp', 'Parch', 'Pclass']\n",
    "\n",
    "# Initialize scaler\n",
    "scaler = MinMaxScaler()\n",
    "\n",
    "# Fit and transform the numerical columns\n",
    "df[numerical_cols] = scaler.fit_transform(df[numerical_cols])\n",
    "\n",
    "# Show first 5 rows of normalized numerical features\n",
    "print(df[numerical_cols].head())\n"
   ]
  },
  {
   "cell_type": "code",
   "execution_count": 11,
   "id": "304278a2-575c-47a2-b030-39c172d1afff",
   "metadata": {},
   "outputs": [
    {
     "data": {
      "image/png": "[encoded data removed]",
      "text/plain": [
       "<Figure size 600x400 with 1 Axes>"
      ]
     },
     "metadata": {},
     "output_type": "display_data"
    },
    {
     "data": {
      "image/png": "[encoded data removed]",
      "text/plain": [
       "<Figure size 600x400 with 1 Axes>"
      ]
     },
     "metadata": {},
     "output_type": "display_data"
    }
   ],
   "source": [
    "import matplotlib.pyplot as plt\n",
    "import seaborn as sns\n",
    "\n",
    "# Columns to check for outliers\n",
    "numerical_cols = ['Age', 'Fare']\n",
    "\n",
    "for col in numerical_cols:\n",
    "    plt.figure(figsize=(6,4))\n",
    "    sns.boxplot(x=df[col])\n",
    "    plt.title(f'Boxplot of {col}')\n",
    "    plt.show()\n"
   ]
  },
  {
   "cell_type": "code",
   "execution_count": null,
   "id": "ab954f25-ae51-4065-a9cc-032ad4bb885a",
   "metadata": {},
   "outputs": [],
   "source": []
  }
 ],
 "metadata": {
  "kernelspec": {
   "display_name": "Python 3 (ipykernel)",
   "language": "python",
   "name": "python3"
  },
  "language_info": {
   "codemirror_mode": {
    "name": "ipython",
    "version": 3
   },
   "file_extension": ".py",
   "mimetype": "text/x-python",
   "name": "python",
   "nbconvert_exporter": "python",
   "pygments_lexer": "ipython3",
   "version": "3.12.7"
  }
 },
 "nbformat": 4,
 "nbformat_minor": 5
}
